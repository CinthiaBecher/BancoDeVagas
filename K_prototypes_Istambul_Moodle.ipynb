{
  "cells": [
    {
      "cell_type": "markdown",
      "metadata": {
        "id": "view-in-github",
        "colab_type": "text"
      },
      "source": [
        "<a href=\"https://colab.research.google.com/github/CinthiaBecher/BancoDeVagas/blob/master/K_prototypes_Istambul_Moodle.ipynb\" target=\"_parent\"><img src=\"https://colab.research.google.com/assets/colab-badge.svg\" alt=\"Open In Colab\"/></a>"
      ]
    },
    {
      "cell_type": "code",
      "execution_count": null,
      "metadata": {
        "id": "_6KoJ8Bus0Fn"
      },
      "outputs": [],
      "source": [
        "#instalar a  bibliotecas  kmodes\n",
        "!pip install kmodes"
      ]
    },
    {
      "cell_type": "code",
      "execution_count": null,
      "metadata": {
        "id": "jFt8OIV382Qr"
      },
      "outputs": [],
      "source": [
        "#importar as  bibliotecas  necessárias\n",
        "import pandas as pd\n",
        "import numpy as np\n",
        "from kmodes.kprototypes import KPrototypes\n",
        "from sklearn.preprocessing import StandardScaler\n",
        "import matplotlib.pyplot as plt\n",
        "import plotly.graph_objects as go"
      ]
    },
    {
      "cell_type": "code",
      "execution_count": null,
      "metadata": {
        "id": "2xr3PGxN9j6B"
      },
      "outputs": [],
      "source": [
        "from google.colab import files\n",
        "\n",
        "# Carregar um arquivo local\n",
        "uploaded = files.upload()\n",
        "\n",
        "#subir o arquivo customer_shoping_data_Istambul.csv"
      ]
    },
    {
      "cell_type": "code",
      "execution_count": null,
      "metadata": {
        "id": "PdSq813n-zpu"
      },
      "outputs": [],
      "source": [
        "# Ler o arquivo que foi carregado para realizar os  clusters\n",
        "data = pd.read_csv('customer_shopping_data_Istambul.csv')\n",
        "\n",
        "# Ler o arquivo que foi carregado mantendo dados originais\n",
        "original_data = pd.read_csv('customer_shopping_data_Istambul.csv')\n",
        "\n",
        "# Exibir as primeiras linhas do DataFrame\n",
        "print(data.head())"
      ]
    },
    {
      "cell_type": "code",
      "execution_count": null,
      "metadata": {
        "id": "KXfGivfM_zkz"
      },
      "outputs": [],
      "source": [
        "# Apresentar estatísticas descritivas\n",
        "print(data.describe())"
      ]
    },
    {
      "cell_type": "code",
      "execution_count": null,
      "metadata": {
        "id": "enCUFCLD_1WC"
      },
      "outputs": [],
      "source": [
        "# Selecionar variáveis numéricas e categóricas\n",
        "categorical_cols = ['customer_id', 'gender', 'category', 'payment_method', 'shopping_mall']\n",
        "numeric_cols = ['age', 'quantity', 'price']\n",
        "\n",
        "# Normalizar as variáveis numéricas\n",
        "scaler = StandardScaler()\n",
        "data[numeric_cols] = scaler.fit_transform(data[numeric_cols])"
      ]
    },
    {
      "cell_type": "code",
      "execution_count": null,
      "metadata": {
        "id": "p_3lU2Kn_45q"
      },
      "outputs": [],
      "source": [
        "# Criar uma matriz combinada (numérica e categórica) para K-prototypes\n",
        "X = data[['age', 'quantity', 'price'] + ['gender', 'category', 'payment_method', 'shopping_mall']].values"
      ]
    },
    {
      "cell_type": "code",
      "source": [
        "#Analisa o melhor número de clusters a partir do método \"cotovelo\"\n",
        "#Atenção - a excecução é muito lenta, faça isso quando tiver tempo\n",
        "costs = []\n",
        "n_clusters = []\n",
        "\n",
        "for i in range(2, 6):  # Define a faixa de número de clusters a serem testados\n",
        "    kproto = KPrototypes(n_clusters=i, init='Huang', verbose=0)\n",
        "    kproto.fit(X, categorical=[3, 4, 5, 6])\n",
        "    costs.append(kproto.cost_)\n",
        "    n_clusters.append(i)\n",
        "\n",
        "fig = go.Figure(data=go.Scatter(x=n_clusters, y=costs, mode='lines+markers'))\n",
        "fig.update_layout(\n",
        "    title='Gráfico de Cost em Função do Número de Clusters',\n",
        "    xaxis=dict(title='Número de Clusters'),\n",
        "    yaxis=dict(title='Cost')\n",
        ")\n",
        "fig.show()"
      ],
      "metadata": {
        "id": "W0lrtr4W-unZ"
      },
      "execution_count": null,
      "outputs": []
    },
    {
      "cell_type": "code",
      "execution_count": null,
      "metadata": {
        "id": "kLHzt8KDAA3i"
      },
      "outputs": [],
      "source": [
        "# Definir o número de clusters desejado\n",
        "num_clusters = 4\n",
        "\n",
        "# Inicializar e ajustar o modelo K-prototypes\n",
        "kproto = KPrototypes(n_clusters=num_clusters, init='Huang', verbose=2)\n",
        "clusters = kproto.fit_predict(X, categorical=[3, 4, 5, 6])\n"
      ]
    },
    {
      "cell_type": "code",
      "execution_count": null,
      "metadata": {
        "id": "WYZFOJEwGZP8"
      },
      "outputs": [],
      "source": [
        "# Adicionar rótulos de cluster aos seus dados originais\n",
        "original_data['Cluster'] = clusters\n",
        "\n",
        "# Gravar os clusters em um novo arquivo CSV\n",
        "original_data.to_csv('customer_clusters.csv', index=False)"
      ]
    },
    {
      "cell_type": "code",
      "execution_count": null,
      "metadata": {
        "colab": {
          "base_uri": "https://localhost:8080/",
          "height": 17
        },
        "id": "MpejrkuOGf9Y",
        "outputId": "f5ebd2a4-e386-415e-b376-1bd74c5b546b"
      },
      "outputs": [
        {
          "data": {
            "application/javascript": [
              "\n",
              "    async function download(id, filename, size) {\n",
              "      if (!google.colab.kernel.accessAllowed) {\n",
              "        return;\n",
              "      }\n",
              "      const div = document.createElement('div');\n",
              "      const label = document.createElement('label');\n",
              "      label.textContent = `Downloading \"${filename}\": `;\n",
              "      div.appendChild(label);\n",
              "      const progress = document.createElement('progress');\n",
              "      progress.max = size;\n",
              "      div.appendChild(progress);\n",
              "      document.body.appendChild(div);\n",
              "\n",
              "      const buffers = [];\n",
              "      let downloaded = 0;\n",
              "\n",
              "      const channel = await google.colab.kernel.comms.open(id);\n",
              "      // Send a message to notify the kernel that we're ready.\n",
              "      channel.send({})\n",
              "\n",
              "      for await (const message of channel.messages) {\n",
              "        // Send a message to notify the kernel that we're ready.\n",
              "        channel.send({})\n",
              "        if (message.buffers) {\n",
              "          for (const buffer of message.buffers) {\n",
              "            buffers.push(buffer);\n",
              "            downloaded += buffer.byteLength;\n",
              "            progress.value = downloaded;\n",
              "          }\n",
              "        }\n",
              "      }\n",
              "      const blob = new Blob(buffers, {type: 'application/binary'});\n",
              "      const a = document.createElement('a');\n",
              "      a.href = window.URL.createObjectURL(blob);\n",
              "      a.download = filename;\n",
              "      div.appendChild(a);\n",
              "      a.click();\n",
              "      div.remove();\n",
              "    }\n",
              "  "
            ],
            "text/plain": [
              "<IPython.core.display.Javascript object>"
            ]
          },
          "metadata": {},
          "output_type": "display_data"
        },
        {
          "data": {
            "application/javascript": [
              "download(\"download_d3d226bf-b7fa-47b9-9e82-e61c5369cfbf\", \"customer_clusters.csv\", 7651310)"
            ],
            "text/plain": [
              "<IPython.core.display.Javascript object>"
            ]
          },
          "metadata": {},
          "output_type": "display_data"
        }
      ],
      "source": [
        "files.download('customer_clusters.csv')"
      ]
    },
    {
      "cell_type": "code",
      "execution_count": null,
      "metadata": {
        "id": "QtkH6bWaGgA3"
      },
      "outputs": [],
      "source": [
        "# Mostrar os clusters formados\n",
        "print(data[['customer_id', 'Cluster']])"
      ]
    }
  ],
  "metadata": {
    "colab": {
      "provenance": [],
      "include_colab_link": true
    },
    "kernelspec": {
      "display_name": "Python 3",
      "name": "python3"
    },
    "language_info": {
      "name": "python"
    }
  },
  "nbformat": 4,
  "nbformat_minor": 0
}